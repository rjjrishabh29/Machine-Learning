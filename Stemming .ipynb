{
  "nbformat": 4,
  "nbformat_minor": 0,
  "metadata": {
    "colab": {
      "name": "Welcome To Colaboratory",
      "version": "0.3.2",
      "provenance": [],
      "collapsed_sections": [],
      "include_colab_link": true
    },
    "kernelspec": {
      "display_name": "Python 3",
      "name": "python3"
    }
  },
  "cells": [
    {
      "cell_type": "markdown",
      "metadata": {
        "id": "view-in-github",
        "colab_type": "text"
      },
      "source": [
        "<a href=\"https://colab.research.google.com/github/rjjrishabh29/Machine-Learning/blob/master/Stemming%20.ipynb\" target=\"_parent\"><img src=\"https://colab.research.google.com/assets/colab-badge.svg\" alt=\"Open In Colab\"/></a>"
      ]
    },
    {
      "cell_type": "code",
      "metadata": {
        "id": "mbylBlVxaaBi",
        "colab_type": "code",
        "colab": {
          "base_uri": "https://localhost:8080/",
          "height": 134
        },
        "outputId": "1bb539c5-eee7-4b92-e3b0-23f10308700c"
      },
      "source": [
        "from nltk.tokenize import sent_tokenize,word_tokenize\n",
        "from nltk.stem import PorterStemmer,WordNetLemmatizer\n",
        "from nltk.corpus import stopwords\n",
        "import nltk\n",
        "nltk.download('punkt')\n",
        "nltk.download('stopwords')\n",
        "nltk.download('wordnet')"
      ],
      "execution_count": 15,
      "outputs": [
        {
          "output_type": "stream",
          "text": [
            "[nltk_data] Downloading package punkt to /root/nltk_data...\n",
            "[nltk_data]   Package punkt is already up-to-date!\n",
            "[nltk_data] Downloading package stopwords to /root/nltk_data...\n",
            "[nltk_data]   Package stopwords is already up-to-date!\n",
            "[nltk_data] Downloading package wordnet to /root/nltk_data...\n",
            "[nltk_data]   Unzipping corpora/wordnet.zip.\n"
          ],
          "name": "stdout"
        },
        {
          "output_type": "execute_result",
          "data": {
            "text/plain": [
              "True"
            ]
          },
          "metadata": {
            "tags": []
          },
          "execution_count": 15
        }
      ]
    },
    {
      "cell_type": "code",
      "metadata": {
        "id": "R7GLjRyFaqiM",
        "colab_type": "code",
        "colab": {}
      },
      "source": [
        "data=\"hello world i am going outside for playing cricket\""
      ],
      "execution_count": 0,
      "outputs": []
    },
    {
      "cell_type": "code",
      "metadata": {
        "id": "vrDC-o3ga7eP",
        "colab_type": "code",
        "colab": {}
      },
      "source": [
        "tdata=word_tokenize(data)\n"
      ],
      "execution_count": 0,
      "outputs": []
    },
    {
      "cell_type": "code",
      "metadata": {
        "id": "DyyUUIyfb5YY",
        "colab_type": "code",
        "colab": {}
      },
      "source": [
        "#remove stopwords\n",
        "removedata=[i for i in tdata if i.lower() not in stopwords.words('english')]"
      ],
      "execution_count": 0,
      "outputs": []
    },
    {
      "cell_type": "code",
      "metadata": {
        "id": "yK8na2Ora_xg",
        "colab_type": "code",
        "colab": {
          "base_uri": "https://localhost:8080/",
          "height": 118
        },
        "outputId": "17aef4ae-d429-48e0-e918-fd7cf3c101dc"
      },
      "source": [
        "removedata\n",
        "pt=PorterStemmer()\n",
        "for i in removedata:\n",
        "  print(i,\"stemmed into ..>\",pt.stem(i))\n",
        "  \n",
        "  \n",
        "  "
      ],
      "execution_count": 12,
      "outputs": [
        {
          "output_type": "stream",
          "text": [
            "hello stemmed into ..> hello\n",
            "world stemmed into ..> world\n",
            "going stemmed into ..> go\n",
            "outside stemmed into ..> outsid\n",
            "playing stemmed into ..> play\n",
            "cricket stemmed into ..> cricket\n"
          ],
          "name": "stdout"
        }
      ]
    },
    {
      "cell_type": "code",
      "metadata": {
        "id": "OlNS7X-ZcORN",
        "colab_type": "code",
        "colab": {
          "base_uri": "https://localhost:8080/",
          "height": 118
        },
        "outputId": "9850b38e-6c2b-4e01-f1b9-078e1f1cffa9"
      },
      "source": [
        "#lemma\n",
        "wl=WordNetLemmatizer()\n",
        "for i in removedata:\n",
        "  print(wl.lemmatize(i))"
      ],
      "execution_count": 16,
      "outputs": [
        {
          "output_type": "stream",
          "text": [
            "hello\n",
            "world\n",
            "going\n",
            "outside\n",
            "playing\n",
            "cricket\n"
          ],
          "name": "stdout"
        }
      ]
    },
    {
      "cell_type": "markdown",
      "metadata": {
        "id": "5OS_Wp8keeyf",
        "colab_type": "text"
      },
      "source": [
        "SPACY\n"
      ]
    },
    {
      "cell_type": "code",
      "metadata": {
        "id": "vrAJblL8ecuH",
        "colab_type": "code",
        "colab": {}
      },
      "source": [
        "import spacy"
      ],
      "execution_count": 0,
      "outputs": []
    },
    {
      "cell_type": "code",
      "metadata": {
        "id": "bhz63SH1elhs",
        "colab_type": "code",
        "colab": {}
      },
      "source": [
        "#language en--\n",
        "nlp=spacy.load('en')"
      ],
      "execution_count": 0,
      "outputs": []
    },
    {
      "cell_type": "code",
      "metadata": {
        "id": "tu_GyBQgetWF",
        "colab_type": "code",
        "colab": {}
      },
      "source": [
        "data=\"hello world i am going outside for playing cricket\""
      ],
      "execution_count": 0,
      "outputs": []
    },
    {
      "cell_type": "code",
      "metadata": {
        "id": "QyR5H3W_fLaK",
        "colab_type": "code",
        "colab": {
          "base_uri": "https://localhost:8080/",
          "height": 34
        },
        "outputId": "15960912-e04b-45c3-e44d-664c7eaa0efc"
      },
      "source": [
        "nlp(data)"
      ],
      "execution_count": 20,
      "outputs": [
        {
          "output_type": "execute_result",
          "data": {
            "text/plain": [
              "hello world i am going outside for playing cricket"
            ]
          },
          "metadata": {
            "tags": []
          },
          "execution_count": 20
        }
      ]
    },
    {
      "cell_type": "code",
      "metadata": {
        "id": "brdQzGMHfPWU",
        "colab_type": "code",
        "colab": {}
      },
      "source": [
        "new_data=nlp(data)   #automatic tokenize"
      ],
      "execution_count": 0,
      "outputs": []
    },
    {
      "cell_type": "code",
      "metadata": {
        "id": "OQZI4tsffXc0",
        "colab_type": "code",
        "colab": {
          "base_uri": "https://localhost:8080/",
          "height": 168
        },
        "outputId": "3c39e45e-3216-4012-eb38-5ef42a21fdf0"
      },
      "source": [
        "for i in new_data:\n",
        "  print(i,\"      lemmatization of word is --> \",i.lemma_,\"       POS\",i.pos_)\n",
        "  "
      ],
      "execution_count": 29,
      "outputs": [
        {
          "output_type": "stream",
          "text": [
            "hello       lemmatization of word is -->  hello        POS INTJ\n",
            "world       lemmatization of word is -->  world        POS NOUN\n",
            "i       lemmatization of word is -->  i        POS PRON\n",
            "am       lemmatization of word is -->  be        POS VERB\n",
            "going       lemmatization of word is -->  go        POS VERB\n",
            "outside       lemmatization of word is -->  outside        POS ADV\n",
            "for       lemmatization of word is -->  for        POS ADP\n",
            "playing       lemmatization of word is -->  play        POS VERB\n",
            "cricket       lemmatization of word is -->  cricket        POS NOUN\n"
          ],
          "name": "stdout"
        }
      ]
    },
    {
      "cell_type": "code",
      "metadata": {
        "id": "URdFFJ1lfcZk",
        "colab_type": "code",
        "colab": {}
      },
      "source": [
        ""
      ],
      "execution_count": 0,
      "outputs": []
    }
  ]
}