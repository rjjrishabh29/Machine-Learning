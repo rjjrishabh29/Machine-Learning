{
  "nbformat": 4,
  "nbformat_minor": 0,
  "metadata": {
    "colab": {
      "name": "twitter_sentiment.ipynb",
      "version": "0.3.2",
      "provenance": [],
      "collapsed_sections": []
    },
    "kernelspec": {
      "name": "python3",
      "display_name": "Python 3"
    }
  },
  "cells": [
    {
      "cell_type": "code",
      "metadata": {
        "id": "s4YCdOZjLVgf",
        "colab_type": "code",
        "colab": {}
      },
      "source": [
        "import tweepy\n",
        "import matplotlib.pyplot as plt"
      ],
      "execution_count": 0,
      "outputs": []
    },
    {
      "cell_type": "code",
      "metadata": {
        "id": "z_th1vgHLcFl",
        "colab_type": "code",
        "colab": {}
      },
      "source": [
        "# all 4 aunthentication keys to access twitter API\n",
        "# to connect as OAth handler or jump server / reverse proxy server\n",
        "consumer_key='aUwFy9bbIT51xobSjmBLL5JWfk'\n",
        "consumer_sec='alanaAB248Ap7Q15EFWvrCRnSY2VaDzZ5xzmkN8JXFrdDr7tPaL'\n",
        "\n",
        "#from proxy server we need to connect to web server of twitter\n",
        "access_token='a1136442237624102914-cRAwcfstY1BxjVcN80RcZikKSBmkrH'\n",
        "access_sec='aA80x5e21sauOAoYVE5u4eTUUx17G5zDUoioQQfDbFCI7V'"
      ],
      "execution_count": 0,
      "outputs": []
    },
    {
      "cell_type": "code",
      "metadata": {
        "id": "vRiU8ipmOvYL",
        "colab_type": "code",
        "colab": {}
      },
      "source": [
        "# tweepy explore \n",
        "#connecting to jump server of twitter\n",
        "auth=tweepy.OAuthHandler(consumer_key,consumer_sec)"
      ],
      "execution_count": 0,
      "outputs": []
    },
    {
      "cell_type": "code",
      "metadata": {
        "id": "J8ZHO3cePMCI",
        "colab_type": "code",
        "colab": {}
      },
      "source": [
        "# now we can connect to API storage server of twitter\n",
        "api_connect=tweepy.API(auth)"
      ],
      "execution_count": 0,
      "outputs": []
    },
    {
      "cell_type": "code",
      "metadata": {
        "id": "lLYdJ_oAPkoJ",
        "colab_type": "code",
        "colab": {}
      },
      "source": [
        "#now you can search any topic on twitter\n",
        "tweet_data=api_connect.search('modi',count=0)"
      ],
      "execution_count": 0,
      "outputs": []
    },
    {
      "cell_type": "code",
      "metadata": {
        "id": "QDIh3V_TQBDP",
        "colab_type": "code",
        "colab": {
          "base_uri": "https://localhost:8080/",
          "height": 443
        },
        "outputId": "45440e43-d812-40f2-d90f-dbee5446d5fb"
      },
      "source": [
        "from textblob import TextBlob\n",
        "positive=0\n",
        "negative=0\n",
        "netural=0\n",
        "#printing line by line\n",
        "for tweet in tweet_data:\n",
        "  #print(tweet.text)\n",
        "  analysis=TextBlob(tweet.text) #here it will apply NLP\n",
        "  print(analysis.sentiment)\n",
        "  #now checking polarity only\n",
        "  if(analysis.sentiment.polarity >0):\n",
        "    print(\"pos\")\n",
        "    positive=positive+1\n",
        "  elif analysis.sentiment.polarity ==0:\n",
        "    print(\"neutral\")\n",
        "    netural=netural+1\n",
        "  else  :\n",
        "    print(\"Negative\")\n",
        "    negative=negative+1\n",
        "    \n",
        "    \n"
      ],
      "execution_count": 6,
      "outputs": [
        {
          "output_type": "stream",
          "text": [
            "Sentiment(polarity=-0.012500000000000011, subjectivity=0.65)\n",
            "Negative\n",
            "Sentiment(polarity=0.0, subjectivity=0.0)\n",
            "neutral\n",
            "Sentiment(polarity=-0.10625000000000001, subjectivity=0.40625)\n",
            "Negative\n",
            "Sentiment(polarity=-0.31666666666666665, subjectivity=0.2833333333333333)\n",
            "Negative\n",
            "Sentiment(polarity=0.5, subjectivity=1.0)\n",
            "pos\n",
            "Sentiment(polarity=-0.39583333333333337, subjectivity=0.4208333333333333)\n",
            "Negative\n",
            "Sentiment(polarity=0.0, subjectivity=0.0)\n",
            "neutral\n",
            "Sentiment(polarity=0.0, subjectivity=0.06666666666666667)\n",
            "neutral\n",
            "Sentiment(polarity=0.0, subjectivity=0.0)\n",
            "neutral\n",
            "Sentiment(polarity=0.0, subjectivity=0.0)\n",
            "neutral\n",
            "Sentiment(polarity=0.0, subjectivity=0.0)\n",
            "neutral\n",
            "Sentiment(polarity=0.51, subjectivity=0.7899999999999999)\n",
            "pos\n"
          ],
          "name": "stdout"
        }
      ]
    },
    {
      "cell_type": "code",
      "metadata": {
        "id": "08NLIMv6R2yk",
        "colab_type": "code",
        "colab": {
          "base_uri": "https://localhost:8080/",
          "height": 282
        },
        "outputId": "55c0fe8a-a638-4ecf-87ff-5b6c6303fd54"
      },
      "source": [
        "#ploting graphs\n",
        "plt.xlabel(\"tags\")\n",
        "plt.ylabel(\"polarity\")\n",
        "plt.bar(['positive','negative','netural'],(positive,negative,netural))\n",
        "plt.show()"
      ],
      "execution_count": 8,
      "outputs": [
        {
          "output_type": "display_data",
          "data": {
            "image/png": "[encoded data removed]",
            "text/plain": [
              "<Figure size 432x288 with 1 Axes>"
            ]
          },
          "metadata": {
            "tags": []
          }
        }
      ]
    }
  ]
}